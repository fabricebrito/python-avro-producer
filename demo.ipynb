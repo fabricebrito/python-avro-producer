{
 "metadata": {
  "language_info": {
   "codemirror_mode": {
    "name": "ipython",
    "version": 3
   },
   "file_extension": ".py",
   "mimetype": "text/x-python",
   "name": "python",
   "nbconvert_exporter": "python",
   "pygments_lexer": "ipython3",
   "version": "3.9.2-final"
  },
  "orig_nbformat": 2,
  "kernelspec": {
   "name": "python392jvsc74a57bd017f41df94016ddf66e72713325728215f63cd343f412b1c325d47c3c9d41243a",
   "display_name": "Python 3.9.2 64-bit ('env-kafka': conda)"
  },
  "metadata": {
   "interpreter": {
    "hash": "17f41df94016ddf66e72713325728215f63cd343f412b1c325d47c3c9d41243a"
   }
  }
 },
 "nbformat": 4,
 "nbformat_minor": 2,
 "cells": [
  {
   "cell_type": "code",
   "execution_count": 1,
   "metadata": {},
   "outputs": [],
   "source": [
    "%load_ext autoreload\n",
    "%autoreload 2\n"
   ]
  },
  {
   "cell_type": "code",
   "execution_count": 2,
   "metadata": {},
   "outputs": [],
   "source": [
    "import avro\n",
    "from avro_json_serializer import AvroJsonSerializer\n",
    "from src.pof.producer.send_record import send_record"
   ]
  },
  {
   "source": [
    "## Produce a message"
   ],
   "cell_type": "markdown",
   "metadata": {}
  },
  {
   "cell_type": "code",
   "execution_count": 12,
   "metadata": {},
   "outputs": [],
   "source": [
    "message = {\"email\": \"email4@email.com\", \n",
    "           \"firstName\": \"John\", \n",
    "           \"lastName\": \"Doe2\"}"
   ]
  },
  {
   "cell_type": "code",
   "execution_count": 13,
   "metadata": {},
   "outputs": [],
   "source": [
    "schema = avro.schema.parse(open(\"avro/create-user-request.avsc\", \"rb\").read())\n",
    "serializer = AvroJsonSerializer(schema)"
   ]
  },
  {
   "cell_type": "code",
   "execution_count": 14,
   "metadata": {},
   "outputs": [],
   "source": [
    "sr = dict()\n",
    "\n",
    "sr[\"topic\"] = \"create-user-request\"\n",
    "sr[\"schema_file\"] = \"create-user-request.avsc\" \n",
    "sr[\"record_value\"] = serializer.to_json(message) \n",
    "sr[\"bootstrap_servers\"] = \"localhost:9092\"\n",
    "sr[\"schema_registry\"] = \"http://localhost:8081\""
   ]
  },
  {
   "cell_type": "code",
   "execution_count": 15,
   "metadata": {},
   "outputs": [
    {
     "output_type": "stream",
     "name": "stderr",
     "text": [
      "2021-04-13T11:53:10 DEBUG    Starting new HTTP connection (1): localhost:8081\n",
      "2021-04-13T11:53:10 DEBUG    http://localhost:8081 \"POST /subjects/create-user-request-value/versions HTTP/1.1\" 200 8\n",
      "2021-04-13T11:53:10 DEBUG    http://localhost:8081 \"POST /subjects/create-user-request-key/versions HTTP/1.1\" 200 8\n",
      "2021-04-13T11:53:10 INFO     Successfully producing record value - {'email': 'email4@email.com', 'firstName': 'John', 'lastName': 'Doe2'} to topic - create-user-request\n"
     ]
    }
   ],
   "source": [
    "send_record(sr)"
   ]
  },
  {
   "source": [
    "## Data item"
   ],
   "cell_type": "markdown",
   "metadata": {}
  },
  {
   "cell_type": "code",
   "execution_count": 7,
   "metadata": {},
   "outputs": [],
   "source": [
    "schema = avro.schema.parse(open(\"avro/data-item.avsc\", \"rb\").read())"
   ]
  },
  {
   "cell_type": "code",
   "execution_count": 8,
   "metadata": {},
   "outputs": [
    {
     "output_type": "execute_result",
     "data": {
      "text/plain": [
       "<avro.schema.RecordSchema at 0x7f648ad4cb80>"
      ]
     },
     "metadata": {},
     "execution_count": 8
    }
   ],
   "source": [
    "schema"
   ]
  },
  {
   "cell_type": "code",
   "execution_count": 9,
   "metadata": {},
   "outputs": [],
   "source": [
    "# ,\n",
    "#     {\n",
    "#       \"name\": \"last_status\",\n",
    "#       \"type\": \"array\",\n",
    "#       \"items\" : [\"string\", \"null\"],\n",
    "#       \"default\": []\n",
    "#     }"
   ]
  },
  {
   "cell_type": "code",
   "execution_count": 10,
   "metadata": {},
   "outputs": [],
   "source": [
    "message = dict()\n",
    "\n"
   ]
  },
  {
   "cell_type": "code",
   "execution_count": 12,
   "metadata": {},
   "outputs": [],
   "source": []
  },
  {
   "source": [
    "serializer = AvroJsonSerializer(avro_schema)"
   ],
   "cell_type": "markdown",
   "metadata": {}
  },
  {
   "cell_type": "code",
   "execution_count": 22,
   "metadata": {},
   "outputs": [
    {
     "output_type": "execute_result",
     "data": {
      "text/plain": [
       "'{\"identifier\":\"an_id\"}'"
      ]
     },
     "metadata": {},
     "execution_count": 22
    }
   ],
   "source": [
    "schema = avro.schema.parse(open(\"avro/simple.avsc\", \"rb\").read())\n",
    "serializer.to_json({\"identifier\": \"an_id\"})"
   ]
  },
  {
   "cell_type": "code",
   "execution_count": null,
   "metadata": {},
   "outputs": [],
   "source": []
  },
  {
   "cell_type": "code",
   "execution_count": 19,
   "metadata": {},
   "outputs": [],
   "source": [
    "serializer = AvroJsonSerializer(schema)"
   ]
  },
  {
   "cell_type": "code",
   "execution_count": 27,
   "metadata": {},
   "outputs": [],
   "source": [
    "payload = {}\n",
    "\n",
    "payload['identifier'] = \"an_id2\""
   ]
  },
  {
   "cell_type": "code",
   "execution_count": 28,
   "metadata": {},
   "outputs": [
    {
     "output_type": "stream",
     "name": "stderr",
     "text": [
      "2021-04-13T11:43:57 DEBUG    Starting new HTTP connection (1): localhost:8081\n",
      "2021-04-13T11:43:57 DEBUG    http://localhost:8081 \"POST /subjects/dataitem-metrics-value/versions HTTP/1.1\" 200 8\n",
      "2021-04-13T11:43:57 DEBUG    http://localhost:8081 \"POST /subjects/dataitem-metrics-key/versions HTTP/1.1\" 200 8\n",
      "2021-04-13T11:43:57 INFO     Successfully producing record value - {'identifier': 'an_id2'} to topic - dataitem-metrics\n"
     ]
    }
   ],
   "source": [
    "di = dict()\n",
    "\n",
    "di[\"topic\"] = \"dataitem-metrics\"\n",
    "di[\"schema_file\"] = \"simple.avsc\" \n",
    "di[\"record_value\"] = serializer.to_json(payload)\n",
    "di[\"bootstrap_servers\"] = \"localhost:9092\"\n",
    "di[\"schema_registry\"] = \"http://localhost:8081\"\n",
    "\n",
    "send_record(di)"
   ]
  },
  {
   "cell_type": "code",
   "execution_count": null,
   "metadata": {},
   "outputs": [],
   "source": []
  }
 ]
}