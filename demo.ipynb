{
 "metadata": {
  "language_info": {
   "codemirror_mode": {
    "name": "ipython",
    "version": 3
   },
   "file_extension": ".py",
   "mimetype": "text/x-python",
   "name": "python",
   "nbconvert_exporter": "python",
   "pygments_lexer": "ipython3",
   "version": "3.9.2-final"
  },
  "orig_nbformat": 2,
  "kernelspec": {
   "name": "python392jvsc74a57bd017f41df94016ddf66e72713325728215f63cd343f412b1c325d47c3c9d41243a",
   "display_name": "Python 3.9.2 64-bit ('env-kafka': conda)"
  },
  "metadata": {
   "interpreter": {
    "hash": "17f41df94016ddf66e72713325728215f63cd343f412b1c325d47c3c9d41243a"
   }
  }
 },
 "nbformat": 4,
 "nbformat_minor": 2,
 "cells": [
  {
   "cell_type": "code",
   "execution_count": 1,
   "metadata": {},
   "outputs": [],
   "source": [
    "%load_ext autoreload\n",
    "%autoreload 2\n"
   ]
  },
  {
   "cell_type": "code",
   "execution_count": 2,
   "metadata": {},
   "outputs": [],
   "source": [
    "import avro\n",
    "from avro_json_serializer import AvroJsonSerializer\n",
    "from src.pof.producer.send_record import send_record\n",
    "from src.pof.consumer.consume_record import consume_record"
   ]
  },
  {
   "source": [
    "# Simple demo\n",
    "\n",
    "Produce a message, consume a message"
   ],
   "cell_type": "markdown",
   "metadata": {}
  },
  {
   "source": [
    "## Produce a message"
   ],
   "cell_type": "markdown",
   "metadata": {}
  },
  {
   "cell_type": "code",
   "execution_count": 3,
   "metadata": {},
   "outputs": [],
   "source": [
    "message = {\"email\": \"email4@email.com\", \n",
    "           \"firstName\": \"John\", \n",
    "           \"lastName\": \"Doe2\"}"
   ]
  },
  {
   "cell_type": "code",
   "execution_count": 4,
   "metadata": {},
   "outputs": [],
   "source": [
    "schema = avro.schema.parse(open(\"avro/create-user-request.avsc\", \"rb\").read())\n",
    "serializer = AvroJsonSerializer(schema)"
   ]
  },
  {
   "cell_type": "code",
   "execution_count": 5,
   "metadata": {},
   "outputs": [],
   "source": [
    "sr = dict()\n",
    "\n",
    "sr[\"topic\"] = \"create-user-request\"\n",
    "sr[\"schema_file\"] = \"create-user-request.avsc\" \n",
    "sr[\"record_value\"] = serializer.to_json(message) \n",
    "sr[\"bootstrap_servers\"] = \"localhost:9092\"\n",
    "sr[\"schema_registry\"] = \"http://localhost:8081\""
   ]
  },
  {
   "cell_type": "code",
   "execution_count": 7,
   "metadata": {},
   "outputs": [
    {
     "output_type": "stream",
     "name": "stderr",
     "text": [
      "2021-04-13T12:23:34 DEBUG    Starting new HTTP connection (1): localhost:8081\n",
      "2021-04-13T12:23:34 DEBUG    http://localhost:8081 \"POST /subjects/create-user-request-value/versions HTTP/1.1\" 200 8\n",
      "2021-04-13T12:23:34 DEBUG    http://localhost:8081 \"POST /subjects/create-user-request-key/versions HTTP/1.1\" 200 8\n",
      "2021-04-13T12:23:34 INFO     Successfully producing record value - {'email': 'email4@email.com', 'firstName': 'John', 'lastName': 'Doe2'} to topic - create-user-request\n"
     ]
    }
   ],
   "source": [
    "send_record(**sr)"
   ]
  },
  {
   "source": [
    "## Consume the message\n",
    "\n",
    "Topic messages are consumed by consumer independently"
   ],
   "cell_type": "markdown",
   "metadata": {}
  },
  {
   "source": [
    "Default consumer"
   ],
   "cell_type": "markdown",
   "metadata": {}
  },
  {
   "cell_type": "code",
   "execution_count": 9,
   "metadata": {},
   "outputs": [
    {
     "output_type": "stream",
     "name": "stderr",
     "text": [
      "2021-04-13T12:24:19 INFO     No new messages at this point. Try again later.\n"
     ]
    }
   ],
   "source": [
    "consume_record(topic=\"create-user-request\", \n",
    "               schema_file=\"create-user-request.avsc\",\n",
    "               bootstrap_servers=\"localhost:9092\",\n",
    "               schema_registry=\"http://localhost:8081\")"
   ]
  },
  {
   "source": [
    "Consumer A"
   ],
   "cell_type": "markdown",
   "metadata": {}
  },
  {
   "cell_type": "code",
   "execution_count": 11,
   "metadata": {},
   "outputs": [
    {
     "output_type": "stream",
     "name": "stderr",
     "text": [
      "2021-04-13T12:24:56 DEBUG    Starting new HTTP connection (1): localhost:8081\n",
      "2021-04-13T12:24:56 DEBUG    http://localhost:8081 \"GET /schemas/ids/2 HTTP/1.1\" 200 148\n",
      "2021-04-13T12:24:56 WARNING  Fast avro failed for schema with id 2, falling thru to standard avro\n",
      "2021-04-13T12:24:56 DEBUG    http://localhost:8081 \"GET /schemas/ids/3 HTTP/1.1\" 200 23\n",
      "2021-04-13T12:24:56 WARNING  Fast avro failed for schema with id 3, falling thru to standard avro\n",
      "2021-04-13T12:24:56 INFO     Successfully poll a record from Kafka topic: create-user-request, partition: 0, offset: 10\n",
      "message key: 472b0b54-aeab-4cc7-b57f-c84c8a4a0742 || message value: {'email': 'email4@email.com', 'firstName': 'John', 'lastName': 'Doe2'}\n"
     ]
    }
   ],
   "source": [
    "consume_record(topic=\"create-user-request\", \n",
    "               schema_file=\"create-user-request.avsc\",\n",
    "               bootstrap_servers=\"localhost:9092\",\n",
    "               schema_registry=\"http://localhost:8081\",\n",
    "               group_id=\"consumer_a\")"
   ]
  },
  {
   "source": [
    "## Data item"
   ],
   "cell_type": "markdown",
   "metadata": {}
  },
  {
   "cell_type": "code",
   "execution_count": 35,
   "metadata": {},
   "outputs": [],
   "source": [
    "schema = avro.schema.parse(open(\"avro/dataitem.avsc\", \"rb\").read())\n",
    "serializer = AvroJsonSerializer(schema)"
   ]
  },
  {
   "cell_type": "code",
   "execution_count": 36,
   "metadata": {},
   "outputs": [
    {
     "output_type": "execute_result",
     "data": {
      "text/plain": [
       "<avro.schema.RecordSchema at 0x7f6e5b00f8e0>"
      ]
     },
     "metadata": {},
     "execution_count": 36
    }
   ],
   "source": [
    "schema"
   ]
  },
  {
   "cell_type": "code",
   "execution_count": 37,
   "metadata": {},
   "outputs": [],
   "source": [
    "# ,\n",
    "#     {\n",
    "#       \"name\": \"last_status\",\n",
    "#       \"type\": \"array\",\n",
    "#       \"items\" : [\"string\", \"null\"],\n",
    "#       \"default\": []\n",
    "#     }"
   ]
  },
  {
   "cell_type": "code",
   "execution_count": 49,
   "metadata": {},
   "outputs": [],
   "source": [
    "payload = {\n",
    "    \"ref_time\" : \"2020-01-03T14:00:00Z\",\n",
    "    \"latency\" : \"null\",\n",
    "    \"service_version\" : \"1.2\",\n",
    "    \"type\" : \"created\",\n",
    "    \"pipeline\" : \"PIPELINE\",\n",
    "    \"duration\" : \"null\",\n",
    "    \"mission\" : \"null\",\n",
    "    \"service\" : \"test_process\",\n",
    "    \"id\" : \"2c622351-TEST-DI1\",\n",
    "    \"event_time\" : \"2020-01-03T14:00:00Z\",\n",
    "    \"ext_event\" : \"null\",\n",
    "    \"mission_subtype\" : \"null\",\n",
    "    \"status\" : \"null\",\n",
    "    \"info\" : \"null\"\n",
    "}"
   ]
  },
  {
   "cell_type": "code",
   "execution_count": 51,
   "metadata": {},
   "outputs": [
    {
     "output_type": "stream",
     "name": "stderr",
     "text": [
      "2021-04-13T12:59:57 DEBUG    Starting new HTTP connection (1): localhost:8081\n",
      "2021-04-13T12:59:57 DEBUG    http://localhost:8081 \"POST /subjects/dataitem-metric-value/versions HTTP/1.1\" 200 8\n",
      "2021-04-13T12:59:57 DEBUG    http://localhost:8081 \"POST /subjects/dataitem-metric-key/versions HTTP/1.1\" 200 8\n",
      "2021-04-13T12:59:57 INFO     Successfully producing record value - {'ref_time': '2020-01-03T14:00:00Z', 'latency': 'null', 'service_version': '1.2', 'type': 'created', 'pipeline': 'PIPELINE', 'duration': 'null', 'mission': 'null', 'service': 'test_process', 'id': '2c622351-TEST-DI1', 'event_time': '2020-01-03T14:00:00Z', 'ext_event': 'null', 'mission_subtype': 'null', 'status': 'null', 'info': 'null'} to topic - dataitem-metric\n"
     ]
    }
   ],
   "source": [
    "schema = avro.schema.parse(open(\"avro/dataitem.avsc\", \"rb\").read())\n",
    "serializer = AvroJsonSerializer(schema)\n",
    "\n",
    "di = dict()\n",
    "\n",
    "di[\"topic\"] = \"dataitem-metric\"\n",
    "di[\"schema_file\"] = \"dataitem.avsc\" \n",
    "di[\"record_value\"] = serializer.to_json(payload)\n",
    "di[\"bootstrap_servers\"] = \"localhost:9092\"\n",
    "di[\"schema_registry\"] = \"http://localhost:8081\"\n",
    "di['record_key'] = payload[\"id\"]\n",
    "\n",
    "send_record(**di)"
   ]
  },
  {
   "cell_type": "code",
   "execution_count": null,
   "metadata": {},
   "outputs": [],
   "source": []
  }
 ]
}